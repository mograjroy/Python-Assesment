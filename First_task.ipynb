{
  "nbformat": 4,
  "nbformat_minor": 0,
  "metadata": {
    "colab": {
      "provenance": []
    },
    "kernelspec": {
      "name": "python3",
      "display_name": "Python 3"
    },
    "language_info": {
      "name": "python"
    }
  },
  "cells": [
    {
      "cell_type": "code",
      "execution_count": null,
      "metadata": {
        "id": "84K93bpKuIAq"
      },
      "outputs": [],
      "source": [
        "# Write a Python program that asks the user to enter \n",
        "# their age and then prints \"You are a minor\" if their age is less than 18, \n",
        "# \"You are an adult\" if their age is greater than or equal to 18 and less than \n",
        "# 65, and \"You are a senior\" if their age is 65 or greater"
      ]
    },
    {
      "cell_type": "code",
      "source": [
        "age = int(input(\"Enter your Age :\"))\n",
        "if age <18:\n",
        "  print(\"You are a minor\")\n",
        "elif age >=18 and age <65:\n",
        "  print(\"You are an adult\")\n",
        "else:\n",
        "  print(\"You are a senior\")"
      ],
      "metadata": {
        "colab": {
          "base_uri": "https://localhost:8080/"
        },
        "id": "XG2InWXsuvO7",
        "outputId": "27413cbe-82fc-49bc-979c-2c954f364987"
      },
      "execution_count": 3,
      "outputs": [
        {
          "output_type": "stream",
          "name": "stdout",
          "text": [
            "Enter your Age :65\n",
            "You are a senior\n"
          ]
        }
      ]
    },
    {
      "cell_type": "code",
      "source": [],
      "metadata": {
        "id": "2pCV_ZOB3Nus"
      },
      "execution_count": null,
      "outputs": []
    }
  ]
}