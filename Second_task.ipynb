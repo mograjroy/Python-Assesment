{
  "nbformat": 4,
  "nbformat_minor": 0,
  "metadata": {
    "colab": {
      "provenance": []
    },
    "kernelspec": {
      "name": "python3",
      "display_name": "Python 3"
    },
    "language_info": {
      "name": "python"
    }
  },
  "cells": [
    {
      "cell_type": "code",
      "execution_count": null,
      "metadata": {
        "id": "GX28ksoy3ee3"
      },
      "outputs": [],
      "source": [
        "# Write a Python function that takes in a list \n",
        "# of numbers and returns the sum of the squares \n",
        "# of all the numbers in the list."
      ]
    },
    {
      "cell_type": "code",
      "source": [
        "def sum(lst):\n",
        "    sum = 0\n",
        "    for num in lst:\n",
        "        sum += num ** 1\n",
        "    return sum"
      ],
      "metadata": {
        "id": "v3GXRHtV47eU"
      },
      "execution_count": 26,
      "outputs": []
    },
    {
      "cell_type": "code",
      "source": [
        "my_list = [100,300]\n",
        "print(sum(my_list))"
      ],
      "metadata": {
        "colab": {
          "base_uri": "https://localhost:8080/"
        },
        "id": "StKnYhyA5BLw",
        "outputId": "84ed67d2-0a47-414b-c4aa-466102e6907b"
      },
      "execution_count": 27,
      "outputs": [
        {
          "output_type": "stream",
          "name": "stdout",
          "text": [
            "400\n"
          ]
        }
      ]
    },
    {
      "cell_type": "code",
      "source": [],
      "metadata": {
        "id": "Ef6FgHGq60B5"
      },
      "execution_count": null,
      "outputs": []
    }
  ]
}