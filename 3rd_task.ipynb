{
  "nbformat": 4,
  "nbformat_minor": 0,
  "metadata": {
    "colab": {
      "provenance": []
    },
    "kernelspec": {
      "name": "python3",
      "display_name": "Python 3"
    },
    "language_info": {
      "name": "python"
    }
  },
  "cells": [
    {
      "cell_type": "code",
      "source": [
        "# Write a Python program that asks the user to enter a number and then prints \"Fizz\" \n",
        "# if the number is divisible by 3, \"Buzz\" if the number is divisible by 5, and \"FizzBuzz\" \n",
        "# if the number is divisible by both 3 and 5. If the number is not divisible by either 3 or 5, \n",
        "# the program should just print the number"
      ],
      "metadata": {
        "id": "42_Ro4_Q7IPV"
      },
      "execution_count": null,
      "outputs": []
    },
    {
      "cell_type": "code",
      "execution_count": 2,
      "metadata": {
        "colab": {
          "base_uri": "https://localhost:8080/"
        },
        "id": "S2Cb-2nY67Kl",
        "outputId": "f75cc95c-14d1-49ce-c7d7-aacae068edea"
      },
      "outputs": [
        {
          "output_type": "stream",
          "name": "stdout",
          "text": [
            "Enter a number: 5\n",
            "Buzz\n"
          ]
        }
      ],
      "source": [
        "number = int(input(\"Enter a number: \"))\n",
        "\n",
        "if number % 3 == 0 and number % 5 == 0:\n",
        "    print(\"FizzBuzz\")\n",
        "elif number % 3 == 0:\n",
        "    print(\"Fizz\")\n",
        "elif number % 5 == 0:\n",
        "    print(\"Buzz\")\n",
        "else:\n",
        "    print(number)\n"
      ]
    },
    {
      "cell_type": "code",
      "source": [],
      "metadata": {
        "id": "DIitchns7JxY"
      },
      "execution_count": null,
      "outputs": []
    }
  ]
}